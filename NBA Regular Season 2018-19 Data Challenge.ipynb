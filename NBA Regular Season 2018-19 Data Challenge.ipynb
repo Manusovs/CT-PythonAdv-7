{
 "cells": [
  {
   "cell_type": "markdown",
   "metadata": {},
   "source": [
    "# Nba Regular Season 2018-19 Data Challenge\n",
    "\n",
    "Your task will be to take the dataset given, and create an analysis answering the following 10 questions. This project will again test your knowledge of pandas in order to find the answers needed given the data you are presented with."
   ]
  },
  {
   "cell_type": "markdown",
   "metadata": {},
   "source": [
    "# What was the average age of player in the league?"
   ]
  },
  {
   "cell_type": "code",
   "execution_count": 27,
   "metadata": {},
   "outputs": [
    {
     "data": {
      "text/plain": [
       "25.900191938579656"
      ]
     },
     "execution_count": 27,
     "metadata": {},
     "output_type": "execute_result"
    }
   ],
   "source": [
    "# Average player age = 25.9 years\n",
    "import numpy as np\n",
    "import pandas as pd\n",
    "import matplotlib.pyplot as plt\n",
    "from  itertools import groupby\n",
    "nba = pd.read_csv('nbastats2018_2019.csv')\n",
    "nba.head(5)\n",
    "nba['Age'].mean()"
   ]
  },
  {
   "cell_type": "markdown",
   "metadata": {},
   "source": [
    "# What player scored the most points?"
   ]
  },
  {
   "cell_type": "code",
   "execution_count": 30,
   "metadata": {},
   "outputs": [
    {
     "data": {
      "text/plain": [
       "Name\n",
       "James Harden             36.1\n",
       "Paul George              28.0\n",
       "Giannis Antetokounmpo    27.7\n",
       "Joel Embiid              27.5\n",
       "LeBron James             27.4\n",
       "Name: Points, dtype: float64"
      ]
     },
     "execution_count": 30,
     "metadata": {},
     "output_type": "execute_result"
    }
   ],
   "source": [
    "#James Harden has the most points with 36.1 points\n",
    "nba_points = nba.groupby('Name')['Points'].sum().sort_values(ascending = False)\n",
    "nba_points.head(5)"
   ]
  },
  {
   "cell_type": "markdown",
   "metadata": {},
   "source": [
    "# What player had the most blocks during the season? Was it a post player (F/C)?"
   ]
  },
  {
   "cell_type": "code",
   "execution_count": 35,
   "metadata": {},
   "outputs": [
    {
     "data": {
      "text/plain": [
       "Name\n",
       "Myles Turner         2.7\n",
       "Anthony Davis        2.4\n",
       "Mitchell Robinson    2.4\n",
       "Rudy Gobert          2.3\n",
       "Brook Lopez          2.2\n",
       "Name: Blocks, dtype: float64"
      ]
     },
     "execution_count": 35,
     "metadata": {},
     "output_type": "execute_result"
    }
   ],
   "source": [
    "#Myles Turner had the most with 2.7 blocks and is a Center\n",
    "nba_blocks = nba.groupby('Name')['Blocks'].sum().sort_values(ascending = False)\n",
    "nba_blocks.head(5)\n",
    "# nba.loc[nba['Name'] == 'Myles Turner', ['Name', 'Position']] there is no position data in the set, but google says he was a Center \n"
   ]
  },
  {
   "cell_type": "markdown",
   "metadata": {},
   "source": [
    "# Based on the regular season, who had the best chance to win a title given their win percentage?"
   ]
  },
  {
   "cell_type": "code",
   "execution_count": 43,
   "metadata": {},
   "outputs": [
    {
     "data": {
      "text/plain": [
       "Name\n",
       "James Harden             15.2\n",
       "Rudy Gobert              14.4\n",
       "Giannis Antetokounmpo    14.4\n",
       "Damian Lillard           12.1\n",
       "Paul George              11.9\n",
       "Name: WS, dtype: float64"
      ]
     },
     "execution_count": 43,
     "metadata": {},
     "output_type": "execute_result"
    }
   ],
   "source": [
    "# James Harden as an individual has the best win share.  \n",
    "#Milwaukee Bucks has the best odds given their teams winshare.  \n",
    "nba_win_share_team = nba.groupby('Team')['WS'].mean().sort_values(ascending = False)\n",
    "nba_win_share_player = nba.groupby('Name')['WS'].mean().sort_values(ascending = False)\n",
    "nba_win_share_player.head(5)"
   ]
  },
  {
   "cell_type": "markdown",
   "metadata": {},
   "source": [
    "# What player had the best 3-pt percentage? "
   ]
  },
  {
   "cell_type": "code",
   "execution_count": 49,
   "metadata": {},
   "outputs": [
    {
     "data": {
      "text/html": [
       "<div>\n",
       "<style scoped>\n",
       "    .dataframe tbody tr th:only-of-type {\n",
       "        vertical-align: middle;\n",
       "    }\n",
       "\n",
       "    .dataframe tbody tr th {\n",
       "        vertical-align: top;\n",
       "    }\n",
       "\n",
       "    .dataframe thead th {\n",
       "        text-align: right;\n",
       "    }\n",
       "</style>\n",
       "<table border=\"1\" class=\"dataframe\">\n",
       "  <thead>\n",
       "    <tr style=\"text-align: right;\">\n",
       "      <th></th>\n",
       "      <th>FG3%</th>\n",
       "      <th>FG3A</th>\n",
       "    </tr>\n",
       "    <tr>\n",
       "      <th>Name</th>\n",
       "      <th></th>\n",
       "      <th></th>\n",
       "    </tr>\n",
       "  </thead>\n",
       "  <tbody>\n",
       "    <tr>\n",
       "      <th>Jordan Sibert</th>\n",
       "      <td>1.000</td>\n",
       "      <td>1.0</td>\n",
       "    </tr>\n",
       "    <tr>\n",
       "      <th>Scott Machado</th>\n",
       "      <td>1.000</td>\n",
       "      <td>0.3</td>\n",
       "    </tr>\n",
       "    <tr>\n",
       "      <th>Eric Moreland</th>\n",
       "      <td>1.000</td>\n",
       "      <td>0.2</td>\n",
       "    </tr>\n",
       "    <tr>\n",
       "      <th>Trevon Duval</th>\n",
       "      <td>1.000</td>\n",
       "      <td>0.3</td>\n",
       "    </tr>\n",
       "    <tr>\n",
       "      <th>Troy Caupain</th>\n",
       "      <td>0.667</td>\n",
       "      <td>0.8</td>\n",
       "    </tr>\n",
       "  </tbody>\n",
       "</table>\n",
       "</div>"
      ],
      "text/plain": [
       "                FG3%  FG3A\n",
       "Name                      \n",
       "Jordan Sibert  1.000   1.0\n",
       "Scott Machado  1.000   0.3\n",
       "Eric Moreland  1.000   0.2\n",
       "Trevon Duval   1.000   0.3\n",
       "Troy Caupain   0.667   0.8"
      ]
     },
     "execution_count": 49,
     "metadata": {},
     "output_type": "execute_result"
    }
   ],
   "source": [
    "#The overall best was Jordan Sibert who not only had a perfect 3-pt percentage but also took more shots than the others with perfect 3pt%\n",
    "#4 Players tied with perfect 3pt percentages Jordan Sibert, Scott Machado, Eric Moreland, & Trevon Duval\n",
    "#nba_3pt = nba.groupby('Name')['FG3%'].sum().sort_values(ascending = False) #this gives the best, but doesn't show attempts\n",
    "nba_3pt = nba.groupby('Name').agg({'FG3%': 'sum', 'FG3A': 'sum'}).sort_values(by='FG3%', ascending=False)\n",
    "nba_3pt.head(5)\n"
   ]
  },
  {
   "cell_type": "markdown",
   "metadata": {},
   "source": [
    "# Who played the most minutes during the season"
   ]
  },
  {
   "cell_type": "code",
   "execution_count": 50,
   "metadata": {},
   "outputs": [
    {
     "data": {
      "text/plain": [
       "Name\n",
       "Bradley Beal         36.9\n",
       "Paul George          36.9\n",
       "James Harden         36.8\n",
       "Russell Westbrook    36.0\n",
       "Jrue Holiday         35.9\n",
       "Name: MP, dtype: float64"
      ]
     },
     "execution_count": 50,
     "metadata": {},
     "output_type": "execute_result"
    }
   ],
   "source": [
    "# Bradley Beal & Paul George played the most during the season at 36.9 minutes\n",
    "nba_minutes = nba.groupby('Name')['MP'].mean().sort_values(ascending = False)\n",
    "nba_minutes.head(5)\n"
   ]
  },
  {
   "cell_type": "markdown",
   "metadata": {},
   "source": [
    "# What player given their player effiecency rating was the clutchest during the season?"
   ]
  },
  {
   "cell_type": "code",
   "execution_count": 52,
   "metadata": {},
   "outputs": [
    {
     "data": {
      "text/plain": [
       "Name\n",
       "Zhou Qi                  80.4\n",
       "Trevon Duval             38.3\n",
       "Gary Payton II           36.9\n",
       "Alan Williams            32.9\n",
       "Giannis Antetokounmpo    30.9\n",
       "Name: PER, dtype: float64"
      ]
     },
     "execution_count": 52,
     "metadata": {},
     "output_type": "execute_result"
    }
   ],
   "source": [
    "#Zhou Qi dominated with 80.4 (2nd place had a score of 38.3)\n",
    "nba_PER = nba.groupby('Name')['PER'].mean().sort_values(ascending = False)\n",
    "nba_PER.head(5)"
   ]
  },
  {
   "cell_type": "markdown",
   "metadata": {},
   "source": [
    "# What team had the youngest roster?"
   ]
  },
  {
   "cell_type": "code",
   "execution_count": 54,
   "metadata": {},
   "outputs": [
    {
     "data": {
      "text/plain": [
       "Team\n",
       "Chicago Bulls             24.312500\n",
       "Sacramento Kings          24.400000\n",
       "Orlando Magic             24.533333\n",
       "New York Knicks           24.625000\n",
       "Phoenix Suns              24.761905\n",
       "Portland Trail Blazers    24.857143\n",
       "Indiana Pacers            25.058824\n",
       "Denver Nuggets            25.266667\n",
       "Brooklyn Nets             25.555556\n",
       "Boston Celtics            25.600000\n",
       "Memphis Grizzlies         25.647059\n",
       "Oklahoma City Thunder     25.750000\n",
       "New Orleans Pelicans      25.777778\n",
       "Cleveland Cavaliers       26.000000\n",
       "Charlotte Hornets         26.000000\n",
       "Detroit Pistons           26.266667\n",
       "Philadelphia 76ers        26.352941\n",
       "Atlanta Hawks             26.476190\n",
       "Los Angeles Lakers        26.625000\n",
       "Minnesota Timberwolves    26.625000\n",
       "Washington Wizards        26.764706\n",
       "Milwaukee Bucks           26.928571\n",
       "Los Angeles Clippers      27.105263\n",
       "Utah Jazz                 27.133333\n",
       "Toronto Raptors           27.166667\n",
       "Golden State Warriors     27.866667\n",
       "Dallas Mavericks          27.866667\n",
       "Houston Rockets           27.923077\n",
       "San Antonio Spurs         28.133333\n",
       "Miami Heat                28.181818\n",
       "Name: Age, dtype: float64"
      ]
     },
     "execution_count": 54,
     "metadata": {},
     "output_type": "execute_result"
    }
   ],
   "source": [
    "# Chicago Bulls at 24.3 years old\n",
    "nba_team_age = nba.groupby('Team')['Age'].mean().sort_values(ascending = True)\n",
    "nba_team_age"
   ]
  },
  {
   "cell_type": "markdown",
   "metadata": {},
   "source": [
    "# Who is the highest paid player during the seasion?"
   ]
  },
  {
   "cell_type": "code",
   "execution_count": 72,
   "metadata": {},
   "outputs": [
    {
     "data": {
      "text/plain": [
       "Name\n",
       "Stephen Curry        37457154.0\n",
       "Chris Paul           35654150.0\n",
       "LeBron James         35654150.0\n",
       "Russell Westbrook    35654150.0\n",
       "Blake Griffin        32088932.0\n",
       "                        ...    \n",
       "Tyler Cavanaugh             NaN\n",
       "Vince Edwards               NaN\n",
       "Walt Lemon Jr.              NaN\n",
       "Yante Maten                 NaN\n",
       "Yuta Watanabe               NaN\n",
       "Name: Salary, Length: 521, dtype: float64"
      ]
     },
     "execution_count": 72,
     "metadata": {},
     "output_type": "execute_result"
    }
   ],
   "source": [
    "#Stephen Curry with $37,457,154\n",
    "#Note this one had to convert the numbers to numeric, which was more difficult that initially thought to find what was \n",
    "#catching the hang up\n",
    "nba2 = nba\n",
    "nba2['Salary'] = nba['Salary'].replace('[\\$,]', '', regex=True)  # Remove dollar signs and commas\n",
    "nba2['Salary'] = pd.to_numeric(nba2['Salary'], errors='coerce')  # Convert to numeric\n",
    "nba2_pay = nba2.groupby('Name')['Salary'].mean().sort_values(ascending = False)\n",
    "nba2_pay\n",
    "# nba2['Salary'] = nba['Salary'].str.replace('[-,]', '', regex=True).astype(float)\n",
    "# nba2_pay = nba2.groupby('Name')['Salary'].sum().sort_values(ascending = False)\n",
    "# nba2_pay.head(5)"
   ]
  },
  {
   "cell_type": "markdown",
   "metadata": {},
   "source": [
    "# At the end of a game, who WOULDN'T you want on the Free Throw Line?"
   ]
  },
  {
   "cell_type": "code",
   "execution_count": 76,
   "metadata": {},
   "outputs": [
    {
     "data": {
      "text/html": [
       "<div>\n",
       "<style scoped>\n",
       "    .dataframe tbody tr th:only-of-type {\n",
       "        vertical-align: middle;\n",
       "    }\n",
       "\n",
       "    .dataframe tbody tr th {\n",
       "        vertical-align: top;\n",
       "    }\n",
       "\n",
       "    .dataframe thead th {\n",
       "        text-align: right;\n",
       "    }\n",
       "</style>\n",
       "<table border=\"1\" class=\"dataframe\">\n",
       "  <thead>\n",
       "    <tr style=\"text-align: right;\">\n",
       "      <th></th>\n",
       "      <th>FT%</th>\n",
       "      <th>FTA</th>\n",
       "    </tr>\n",
       "    <tr>\n",
       "      <th>Name</th>\n",
       "      <th></th>\n",
       "      <th></th>\n",
       "    </tr>\n",
       "  </thead>\n",
       "  <tbody>\n",
       "    <tr>\n",
       "      <th>Jacob Evans</th>\n",
       "      <td>0.000</td>\n",
       "      <td>0.0</td>\n",
       "    </tr>\n",
       "    <tr>\n",
       "      <th>Tahjere McCall</th>\n",
       "      <td>0.000</td>\n",
       "      <td>1.0</td>\n",
       "    </tr>\n",
       "    <tr>\n",
       "      <th>Terrence Jones</th>\n",
       "      <td>0.000</td>\n",
       "      <td>0.5</td>\n",
       "    </tr>\n",
       "    <tr>\n",
       "      <th>Donatas Motiejunas</th>\n",
       "      <td>0.000</td>\n",
       "      <td>0.7</td>\n",
       "    </tr>\n",
       "    <tr>\n",
       "      <th>Haywood Highsmith</th>\n",
       "      <td>0.000</td>\n",
       "      <td>0.4</td>\n",
       "    </tr>\n",
       "    <tr>\n",
       "      <th>C.J. Williams</th>\n",
       "      <td>0.000</td>\n",
       "      <td>0.1</td>\n",
       "    </tr>\n",
       "    <tr>\n",
       "      <th>Dzanan Musa</th>\n",
       "      <td>0.000</td>\n",
       "      <td>0.2</td>\n",
       "    </tr>\n",
       "    <tr>\n",
       "      <th>Melvin Frazier</th>\n",
       "      <td>0.250</td>\n",
       "      <td>0.4</td>\n",
       "    </tr>\n",
       "    <tr>\n",
       "      <th>Ray Spalding</th>\n",
       "      <td>0.333</td>\n",
       "      <td>0.9</td>\n",
       "    </tr>\n",
       "    <tr>\n",
       "      <th>Tyler Lydon</th>\n",
       "      <td>0.333</td>\n",
       "      <td>0.1</td>\n",
       "    </tr>\n",
       "  </tbody>\n",
       "</table>\n",
       "</div>"
      ],
      "text/plain": [
       "                      FT%  FTA\n",
       "Name                          \n",
       "Jacob Evans         0.000  0.0\n",
       "Tahjere McCall      0.000  1.0\n",
       "Terrence Jones      0.000  0.5\n",
       "Donatas Motiejunas  0.000  0.7\n",
       "Haywood Highsmith   0.000  0.4\n",
       "C.J. Williams       0.000  0.1\n",
       "Dzanan Musa         0.000  0.2\n",
       "Melvin Frazier      0.250  0.4\n",
       "Ray Spalding        0.333  0.9\n",
       "Tyler Lydon         0.333  0.1"
      ]
     },
     "execution_count": 76,
     "metadata": {},
     "output_type": "execute_result"
    }
   ],
   "source": [
    "#Tahjere McCall is one of 7 players who hasn't made a free throw, and he takes on avg 1 a game (the most of the 7)\n",
    "nba_Free_throws = nba.groupby('Name').agg({'FT%': 'mean', 'FTA': 'mean'}).sort_values(by='FT%', ascending = True)\n",
    "nba_Free_throws.head(10)\n",
    "\n"
   ]
  },
  {
   "cell_type": "code",
   "execution_count": null,
   "metadata": {},
   "outputs": [],
   "source": []
  }
 ],
 "metadata": {
  "kernelspec": {
   "display_name": "Python 3 (ipykernel)",
   "language": "python",
   "name": "python3"
  },
  "language_info": {
   "codemirror_mode": {
    "name": "ipython",
    "version": 3
   },
   "file_extension": ".py",
   "mimetype": "text/x-python",
   "name": "python",
   "nbconvert_exporter": "python",
   "pygments_lexer": "ipython3",
   "version": "3.10.9"
  }
 },
 "nbformat": 4,
 "nbformat_minor": 2
}
